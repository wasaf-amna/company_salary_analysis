{
 "cells": [
  {
   "cell_type": "code",
   "execution_count": 3,
   "id": "8f3bf39d-62dd-4d23-843b-6ed8c3b733f4",
   "metadata": {},
   "outputs": [],
   "source": [
    "import pandas as pd\n",
    "import numpy as np \n",
    "import seaborn as sns\n",
    "import matplotlib.pyplot as plt\n"
   ]
  },
  {
   "cell_type": "markdown",
   "id": "f06764be-08c1-46a0-9497-55d047e46056",
   "metadata": {},
   "source": [
    "# fetch data "
   ]
  },
  {
   "cell_type": "code",
   "execution_count": 5,
   "id": "ca7e4a84-43c8-4e87-b52f-ca38b8b19bc3",
   "metadata": {},
   "outputs": [],
   "source": [
    "df = pd.read_csv(r\"C:\\Users\\ATOnile\\Downloads\\Dataset salary 2024.csv\")"
   ]
  },
  {
   "cell_type": "code",
   "execution_count": 7,
   "id": "db2014bf-764a-465a-822a-c2f2d42db5e7",
   "metadata": {
    "scrolled": true
   },
   "outputs": [
    {
     "data": {
      "text/html": [
       "<div>\n",
       "<style scoped>\n",
       "    .dataframe tbody tr th:only-of-type {\n",
       "        vertical-align: middle;\n",
       "    }\n",
       "\n",
       "    .dataframe tbody tr th {\n",
       "        vertical-align: top;\n",
       "    }\n",
       "\n",
       "    .dataframe thead th {\n",
       "        text-align: right;\n",
       "    }\n",
       "</style>\n",
       "<table border=\"1\" class=\"dataframe\">\n",
       "  <thead>\n",
       "    <tr style=\"text-align: right;\">\n",
       "      <th></th>\n",
       "      <th>work_year</th>\n",
       "      <th>experience_level</th>\n",
       "      <th>employment_type</th>\n",
       "      <th>job_title</th>\n",
       "      <th>salary</th>\n",
       "      <th>salary_currency</th>\n",
       "      <th>salary_in_usd</th>\n",
       "      <th>employee_residence</th>\n",
       "      <th>remote_ratio</th>\n",
       "      <th>company_location</th>\n",
       "      <th>company_size</th>\n",
       "    </tr>\n",
       "  </thead>\n",
       "  <tbody>\n",
       "    <tr>\n",
       "      <th>0</th>\n",
       "      <td>2024</td>\n",
       "      <td>SE</td>\n",
       "      <td>FT</td>\n",
       "      <td>AI Engineer</td>\n",
       "      <td>202730</td>\n",
       "      <td>USD</td>\n",
       "      <td>202730</td>\n",
       "      <td>US</td>\n",
       "      <td>0</td>\n",
       "      <td>US</td>\n",
       "      <td>M</td>\n",
       "    </tr>\n",
       "    <tr>\n",
       "      <th>1</th>\n",
       "      <td>2024</td>\n",
       "      <td>SE</td>\n",
       "      <td>FT</td>\n",
       "      <td>AI Engineer</td>\n",
       "      <td>92118</td>\n",
       "      <td>USD</td>\n",
       "      <td>92118</td>\n",
       "      <td>US</td>\n",
       "      <td>0</td>\n",
       "      <td>US</td>\n",
       "      <td>M</td>\n",
       "    </tr>\n",
       "    <tr>\n",
       "      <th>2</th>\n",
       "      <td>2024</td>\n",
       "      <td>SE</td>\n",
       "      <td>FT</td>\n",
       "      <td>Data Engineer</td>\n",
       "      <td>130500</td>\n",
       "      <td>USD</td>\n",
       "      <td>130500</td>\n",
       "      <td>US</td>\n",
       "      <td>0</td>\n",
       "      <td>US</td>\n",
       "      <td>M</td>\n",
       "    </tr>\n",
       "    <tr>\n",
       "      <th>3</th>\n",
       "      <td>2024</td>\n",
       "      <td>SE</td>\n",
       "      <td>FT</td>\n",
       "      <td>Data Engineer</td>\n",
       "      <td>96000</td>\n",
       "      <td>USD</td>\n",
       "      <td>96000</td>\n",
       "      <td>US</td>\n",
       "      <td>0</td>\n",
       "      <td>US</td>\n",
       "      <td>M</td>\n",
       "    </tr>\n",
       "    <tr>\n",
       "      <th>4</th>\n",
       "      <td>2024</td>\n",
       "      <td>SE</td>\n",
       "      <td>FT</td>\n",
       "      <td>Machine Learning Engineer</td>\n",
       "      <td>190000</td>\n",
       "      <td>USD</td>\n",
       "      <td>190000</td>\n",
       "      <td>US</td>\n",
       "      <td>0</td>\n",
       "      <td>US</td>\n",
       "      <td>M</td>\n",
       "    </tr>\n",
       "    <tr>\n",
       "      <th>...</th>\n",
       "      <td>...</td>\n",
       "      <td>...</td>\n",
       "      <td>...</td>\n",
       "      <td>...</td>\n",
       "      <td>...</td>\n",
       "      <td>...</td>\n",
       "      <td>...</td>\n",
       "      <td>...</td>\n",
       "      <td>...</td>\n",
       "      <td>...</td>\n",
       "      <td>...</td>\n",
       "    </tr>\n",
       "    <tr>\n",
       "      <th>16529</th>\n",
       "      <td>2020</td>\n",
       "      <td>SE</td>\n",
       "      <td>FT</td>\n",
       "      <td>Data Scientist</td>\n",
       "      <td>412000</td>\n",
       "      <td>USD</td>\n",
       "      <td>412000</td>\n",
       "      <td>US</td>\n",
       "      <td>100</td>\n",
       "      <td>US</td>\n",
       "      <td>L</td>\n",
       "    </tr>\n",
       "    <tr>\n",
       "      <th>16530</th>\n",
       "      <td>2021</td>\n",
       "      <td>MI</td>\n",
       "      <td>FT</td>\n",
       "      <td>Principal Data Scientist</td>\n",
       "      <td>151000</td>\n",
       "      <td>USD</td>\n",
       "      <td>151000</td>\n",
       "      <td>US</td>\n",
       "      <td>100</td>\n",
       "      <td>US</td>\n",
       "      <td>L</td>\n",
       "    </tr>\n",
       "    <tr>\n",
       "      <th>16531</th>\n",
       "      <td>2020</td>\n",
       "      <td>EN</td>\n",
       "      <td>FT</td>\n",
       "      <td>Data Scientist</td>\n",
       "      <td>105000</td>\n",
       "      <td>USD</td>\n",
       "      <td>105000</td>\n",
       "      <td>US</td>\n",
       "      <td>100</td>\n",
       "      <td>US</td>\n",
       "      <td>S</td>\n",
       "    </tr>\n",
       "    <tr>\n",
       "      <th>16532</th>\n",
       "      <td>2020</td>\n",
       "      <td>EN</td>\n",
       "      <td>CT</td>\n",
       "      <td>Business Data Analyst</td>\n",
       "      <td>100000</td>\n",
       "      <td>USD</td>\n",
       "      <td>100000</td>\n",
       "      <td>US</td>\n",
       "      <td>100</td>\n",
       "      <td>US</td>\n",
       "      <td>L</td>\n",
       "    </tr>\n",
       "    <tr>\n",
       "      <th>16533</th>\n",
       "      <td>2021</td>\n",
       "      <td>SE</td>\n",
       "      <td>FT</td>\n",
       "      <td>Data Science Manager</td>\n",
       "      <td>7000000</td>\n",
       "      <td>INR</td>\n",
       "      <td>94665</td>\n",
       "      <td>IN</td>\n",
       "      <td>50</td>\n",
       "      <td>IN</td>\n",
       "      <td>L</td>\n",
       "    </tr>\n",
       "  </tbody>\n",
       "</table>\n",
       "<p>16534 rows × 11 columns</p>\n",
       "</div>"
      ],
      "text/plain": [
       "       work_year experience_level employment_type                  job_title  \\\n",
       "0           2024               SE              FT                AI Engineer   \n",
       "1           2024               SE              FT                AI Engineer   \n",
       "2           2024               SE              FT              Data Engineer   \n",
       "3           2024               SE              FT              Data Engineer   \n",
       "4           2024               SE              FT  Machine Learning Engineer   \n",
       "...          ...              ...             ...                        ...   \n",
       "16529       2020               SE              FT             Data Scientist   \n",
       "16530       2021               MI              FT   Principal Data Scientist   \n",
       "16531       2020               EN              FT             Data Scientist   \n",
       "16532       2020               EN              CT      Business Data Analyst   \n",
       "16533       2021               SE              FT       Data Science Manager   \n",
       "\n",
       "        salary salary_currency  salary_in_usd employee_residence  \\\n",
       "0       202730             USD         202730                 US   \n",
       "1        92118             USD          92118                 US   \n",
       "2       130500             USD         130500                 US   \n",
       "3        96000             USD          96000                 US   \n",
       "4       190000             USD         190000                 US   \n",
       "...        ...             ...            ...                ...   \n",
       "16529   412000             USD         412000                 US   \n",
       "16530   151000             USD         151000                 US   \n",
       "16531   105000             USD         105000                 US   \n",
       "16532   100000             USD         100000                 US   \n",
       "16533  7000000             INR          94665                 IN   \n",
       "\n",
       "       remote_ratio company_location company_size  \n",
       "0                 0               US            M  \n",
       "1                 0               US            M  \n",
       "2                 0               US            M  \n",
       "3                 0               US            M  \n",
       "4                 0               US            M  \n",
       "...             ...              ...          ...  \n",
       "16529           100               US            L  \n",
       "16530           100               US            L  \n",
       "16531           100               US            S  \n",
       "16532           100               US            L  \n",
       "16533            50               IN            L  \n",
       "\n",
       "[16534 rows x 11 columns]"
      ]
     },
     "execution_count": 7,
     "metadata": {},
     "output_type": "execute_result"
    }
   ],
   "source": [
    "df"
   ]
  },
  {
   "cell_type": "markdown",
   "id": "cd85a439-f9a7-4b53-8ac7-58e44d3138b7",
   "metadata": {},
   "source": [
    "# show first 3 rows only "
   ]
  },
  {
   "cell_type": "code",
   "execution_count": 7,
   "id": "2ad8adbf-cbfe-456b-9854-991c1abd2395",
   "metadata": {},
   "outputs": [
    {
     "data": {
      "text/html": [
       "<div>\n",
       "<style scoped>\n",
       "    .dataframe tbody tr th:only-of-type {\n",
       "        vertical-align: middle;\n",
       "    }\n",
       "\n",
       "    .dataframe tbody tr th {\n",
       "        vertical-align: top;\n",
       "    }\n",
       "\n",
       "    .dataframe thead th {\n",
       "        text-align: right;\n",
       "    }\n",
       "</style>\n",
       "<table border=\"1\" class=\"dataframe\">\n",
       "  <thead>\n",
       "    <tr style=\"text-align: right;\">\n",
       "      <th></th>\n",
       "      <th>work_year</th>\n",
       "      <th>experience_level</th>\n",
       "      <th>employment_type</th>\n",
       "      <th>job_title</th>\n",
       "      <th>salary</th>\n",
       "      <th>salary_currency</th>\n",
       "      <th>salary_in_usd</th>\n",
       "      <th>employee_residence</th>\n",
       "      <th>remote_ratio</th>\n",
       "      <th>company_location</th>\n",
       "      <th>company_size</th>\n",
       "    </tr>\n",
       "  </thead>\n",
       "  <tbody>\n",
       "    <tr>\n",
       "      <th>0</th>\n",
       "      <td>2024</td>\n",
       "      <td>SE</td>\n",
       "      <td>FT</td>\n",
       "      <td>AI Engineer</td>\n",
       "      <td>202730</td>\n",
       "      <td>USD</td>\n",
       "      <td>202730</td>\n",
       "      <td>US</td>\n",
       "      <td>0</td>\n",
       "      <td>US</td>\n",
       "      <td>M</td>\n",
       "    </tr>\n",
       "    <tr>\n",
       "      <th>1</th>\n",
       "      <td>2024</td>\n",
       "      <td>SE</td>\n",
       "      <td>FT</td>\n",
       "      <td>AI Engineer</td>\n",
       "      <td>92118</td>\n",
       "      <td>USD</td>\n",
       "      <td>92118</td>\n",
       "      <td>US</td>\n",
       "      <td>0</td>\n",
       "      <td>US</td>\n",
       "      <td>M</td>\n",
       "    </tr>\n",
       "    <tr>\n",
       "      <th>2</th>\n",
       "      <td>2024</td>\n",
       "      <td>SE</td>\n",
       "      <td>FT</td>\n",
       "      <td>Data Engineer</td>\n",
       "      <td>130500</td>\n",
       "      <td>USD</td>\n",
       "      <td>130500</td>\n",
       "      <td>US</td>\n",
       "      <td>0</td>\n",
       "      <td>US</td>\n",
       "      <td>M</td>\n",
       "    </tr>\n",
       "  </tbody>\n",
       "</table>\n",
       "</div>"
      ],
      "text/plain": [
       "   work_year experience_level employment_type      job_title  salary  \\\n",
       "0       2024               SE              FT    AI Engineer  202730   \n",
       "1       2024               SE              FT    AI Engineer   92118   \n",
       "2       2024               SE              FT  Data Engineer  130500   \n",
       "\n",
       "  salary_currency  salary_in_usd employee_residence  remote_ratio  \\\n",
       "0             USD         202730                 US             0   \n",
       "1             USD          92118                 US             0   \n",
       "2             USD         130500                 US             0   \n",
       "\n",
       "  company_location company_size  \n",
       "0               US            M  \n",
       "1               US            M  \n",
       "2               US            M  "
      ]
     },
     "execution_count": 7,
     "metadata": {},
     "output_type": "execute_result"
    }
   ],
   "source": [
    "df.head(3)"
   ]
  },
  {
   "cell_type": "markdown",
   "id": "dbb71608-5652-481b-b13f-772a6cf99d9d",
   "metadata": {},
   "source": [
    "# show last 3 rows"
   ]
  },
  {
   "cell_type": "code",
   "execution_count": 9,
   "id": "3910caf4-3cc8-4f32-8b64-7b1066d87e60",
   "metadata": {},
   "outputs": [
    {
     "data": {
      "text/html": [
       "<div>\n",
       "<style scoped>\n",
       "    .dataframe tbody tr th:only-of-type {\n",
       "        vertical-align: middle;\n",
       "    }\n",
       "\n",
       "    .dataframe tbody tr th {\n",
       "        vertical-align: top;\n",
       "    }\n",
       "\n",
       "    .dataframe thead th {\n",
       "        text-align: right;\n",
       "    }\n",
       "</style>\n",
       "<table border=\"1\" class=\"dataframe\">\n",
       "  <thead>\n",
       "    <tr style=\"text-align: right;\">\n",
       "      <th></th>\n",
       "      <th>work_year</th>\n",
       "      <th>experience_level</th>\n",
       "      <th>employment_type</th>\n",
       "      <th>job_title</th>\n",
       "      <th>salary</th>\n",
       "      <th>salary_currency</th>\n",
       "      <th>salary_in_usd</th>\n",
       "      <th>employee_residence</th>\n",
       "      <th>remote_ratio</th>\n",
       "      <th>company_location</th>\n",
       "      <th>company_size</th>\n",
       "    </tr>\n",
       "  </thead>\n",
       "  <tbody>\n",
       "    <tr>\n",
       "      <th>16531</th>\n",
       "      <td>2020</td>\n",
       "      <td>EN</td>\n",
       "      <td>FT</td>\n",
       "      <td>Data Scientist</td>\n",
       "      <td>105000</td>\n",
       "      <td>USD</td>\n",
       "      <td>105000</td>\n",
       "      <td>US</td>\n",
       "      <td>100</td>\n",
       "      <td>US</td>\n",
       "      <td>S</td>\n",
       "    </tr>\n",
       "    <tr>\n",
       "      <th>16532</th>\n",
       "      <td>2020</td>\n",
       "      <td>EN</td>\n",
       "      <td>CT</td>\n",
       "      <td>Business Data Analyst</td>\n",
       "      <td>100000</td>\n",
       "      <td>USD</td>\n",
       "      <td>100000</td>\n",
       "      <td>US</td>\n",
       "      <td>100</td>\n",
       "      <td>US</td>\n",
       "      <td>L</td>\n",
       "    </tr>\n",
       "    <tr>\n",
       "      <th>16533</th>\n",
       "      <td>2021</td>\n",
       "      <td>SE</td>\n",
       "      <td>FT</td>\n",
       "      <td>Data Science Manager</td>\n",
       "      <td>7000000</td>\n",
       "      <td>INR</td>\n",
       "      <td>94665</td>\n",
       "      <td>IN</td>\n",
       "      <td>50</td>\n",
       "      <td>IN</td>\n",
       "      <td>L</td>\n",
       "    </tr>\n",
       "  </tbody>\n",
       "</table>\n",
       "</div>"
      ],
      "text/plain": [
       "       work_year experience_level employment_type              job_title  \\\n",
       "16531       2020               EN              FT         Data Scientist   \n",
       "16532       2020               EN              CT  Business Data Analyst   \n",
       "16533       2021               SE              FT   Data Science Manager   \n",
       "\n",
       "        salary salary_currency  salary_in_usd employee_residence  \\\n",
       "16531   105000             USD         105000                 US   \n",
       "16532   100000             USD         100000                 US   \n",
       "16533  7000000             INR          94665                 IN   \n",
       "\n",
       "       remote_ratio company_location company_size  \n",
       "16531           100               US            S  \n",
       "16532           100               US            L  \n",
       "16533            50               IN            L  "
      ]
     },
     "execution_count": 9,
     "metadata": {},
     "output_type": "execute_result"
    }
   ],
   "source": [
    "df.tail(3)"
   ]
  },
  {
   "cell_type": "markdown",
   "id": "c226eb8b-0805-4c91-a7d5-10e003b75b88",
   "metadata": {},
   "source": [
    "# handel missing data "
   ]
  },
  {
   "cell_type": "code",
   "execution_count": 11,
   "id": "7c8d2687-af83-4f88-8e72-952c75a36d80",
   "metadata": {},
   "outputs": [
    {
     "name": "stdout",
     "output_type": "stream",
     "text": [
      "<class 'pandas.core.frame.DataFrame'>\n",
      "RangeIndex: 16534 entries, 0 to 16533\n",
      "Data columns (total 11 columns):\n",
      " #   Column              Non-Null Count  Dtype \n",
      "---  ------              --------------  ----- \n",
      " 0   work_year           16534 non-null  int64 \n",
      " 1   experience_level    16534 non-null  object\n",
      " 2   employment_type     16534 non-null  object\n",
      " 3   job_title           16534 non-null  object\n",
      " 4   salary              16534 non-null  int64 \n",
      " 5   salary_currency     16534 non-null  object\n",
      " 6   salary_in_usd       16534 non-null  int64 \n",
      " 7   employee_residence  16534 non-null  object\n",
      " 8   remote_ratio        16534 non-null  int64 \n",
      " 9   company_location    16534 non-null  object\n",
      " 10  company_size        16534 non-null  object\n",
      "dtypes: int64(4), object(7)\n",
      "memory usage: 1.4+ MB\n"
     ]
    }
   ],
   "source": [
    "df.info()"
   ]
  },
  {
   "cell_type": "code",
   "execution_count": 13,
   "id": "c9d96c47-8ac1-4c92-8a54-11f302b2f2bd",
   "metadata": {},
   "outputs": [
    {
     "data": {
      "text/plain": [
       "work_year             0\n",
       "experience_level      0\n",
       "employment_type       0\n",
       "job_title             0\n",
       "salary                0\n",
       "salary_currency       0\n",
       "salary_in_usd         0\n",
       "employee_residence    0\n",
       "remote_ratio          0\n",
       "company_location      0\n",
       "company_size          0\n",
       "dtype: int64"
      ]
     },
     "execution_count": 13,
     "metadata": {},
     "output_type": "execute_result"
    }
   ],
   "source": [
    "df.isnull().sum()"
   ]
  },
  {
   "cell_type": "markdown",
   "id": "5917544e-0764-4eac-9772-b7d3dcf7aae3",
   "metadata": {},
   "source": [
    "# visiuilization "
   ]
  },
  {
   "cell_type": "markdown",
   "id": "bc9fff94-0f37-41e1-aed2-4077d35eb4ec",
   "metadata": {},
   "source": [
    "# Average Salary by Job Title:"
   ]
  },
  {
   "cell_type": "code",
   "execution_count": 68,
   "id": "8fa45a69-68a7-4855-b962-5477ff06f095",
   "metadata": {},
   "outputs": [
    {
     "name": "stdout",
     "output_type": "stream",
     "text": [
      "                           job_title         salary\n",
      "0                       AI Architect  252001.724138\n",
      "1                       AI Developer  134684.210526\n",
      "2                        AI Engineer  163626.866667\n",
      "3                 AI Product Manager  141766.666667\n",
      "4                      AI Programmer  764400.857143\n",
      "..                               ...            ...\n",
      "150               Sales Data Analyst   60000.000000\n",
      "151           Software Data Engineer  120000.000000\n",
      "152               Staff Data Analyst   84999.333333\n",
      "153             Staff Data Scientist  134500.000000\n",
      "154  Staff Machine Learning Engineer  185000.000000\n",
      "\n",
      "[155 rows x 2 columns]\n"
     ]
    }
   ],
   "source": [
    "Average_Salary_by_Job_Title = df.groupby('job_title')['salary'].mean().reset_index()\n",
    "Average_Salary_by_Job_Title.columns = ['job_title', 'salary']\n",
    "print(Average_Salary_by_Job_Title)"
   ]
  },
  {
   "cell_type": "code",
   "execution_count": 36,
   "id": "6f61adc0-96bf-491b-b2f0-d1dedb64c381",
   "metadata": {},
   "outputs": [
    {
     "data": {
      "text/html": [
       "<div>\n",
       "<style scoped>\n",
       "    .dataframe tbody tr th:only-of-type {\n",
       "        vertical-align: middle;\n",
       "    }\n",
       "\n",
       "    .dataframe tbody tr th {\n",
       "        vertical-align: top;\n",
       "    }\n",
       "\n",
       "    .dataframe thead th {\n",
       "        text-align: right;\n",
       "    }\n",
       "</style>\n",
       "<table border=\"1\" class=\"dataframe\">\n",
       "  <thead>\n",
       "    <tr style=\"text-align: right;\">\n",
       "      <th></th>\n",
       "      <th>job title</th>\n",
       "      <th>salary</th>\n",
       "    </tr>\n",
       "  </thead>\n",
       "  <tbody>\n",
       "    <tr>\n",
       "      <th>0</th>\n",
       "      <td>AI Architect</td>\n",
       "      <td>252001.724138</td>\n",
       "    </tr>\n",
       "    <tr>\n",
       "      <th>1</th>\n",
       "      <td>AI Developer</td>\n",
       "      <td>134684.210526</td>\n",
       "    </tr>\n",
       "    <tr>\n",
       "      <th>2</th>\n",
       "      <td>AI Engineer</td>\n",
       "      <td>163626.866667</td>\n",
       "    </tr>\n",
       "    <tr>\n",
       "      <th>3</th>\n",
       "      <td>AI Product Manager</td>\n",
       "      <td>141766.666667</td>\n",
       "    </tr>\n",
       "    <tr>\n",
       "      <th>4</th>\n",
       "      <td>AI Programmer</td>\n",
       "      <td>764400.857143</td>\n",
       "    </tr>\n",
       "    <tr>\n",
       "      <th>5</th>\n",
       "      <td>AI Research Engineer</td>\n",
       "      <td>360871.428571</td>\n",
       "    </tr>\n",
       "    <tr>\n",
       "      <th>6</th>\n",
       "      <td>AI Research Scientist</td>\n",
       "      <td>104833.333333</td>\n",
       "    </tr>\n",
       "  </tbody>\n",
       "</table>\n",
       "</div>"
      ],
      "text/plain": [
       "               job title         salary\n",
       "0           AI Architect  252001.724138\n",
       "1           AI Developer  134684.210526\n",
       "2            AI Engineer  163626.866667\n",
       "3     AI Product Manager  141766.666667\n",
       "4          AI Programmer  764400.857143\n",
       "5   AI Research Engineer  360871.428571\n",
       "6  AI Research Scientist  104833.333333"
      ]
     },
     "execution_count": 36,
     "metadata": {},
     "output_type": "execute_result"
    }
   ],
   "source": [
    "Average_Salary_by_Job_Title.head(7)"
   ]
  },
  {
   "cell_type": "code",
   "execution_count": 76,
   "id": "63cb6094-d473-4e73-8dc4-dd8f27e20741",
   "metadata": {},
   "outputs": [
    {
     "name": "stdout",
     "output_type": "stream",
     "text": [
      "                          job_title        salary\n",
      "138        Principal Data Architect  3.000000e+06\n",
      "115  Lead Machine Learning Engineer  1.566200e+06\n",
      "130         Manager Data Management  1.562500e+06\n",
      "110        Head of Machine Learning  1.146000e+06\n",
      "112               Lead Data Analyst  1.095833e+06\n"
     ]
    }
   ],
   "source": [
    "top_5_job_titles = Average_Salary_by_Job_Title.sort_values(by='salary', ascending=False).head(5)\n",
    "print(top_5_job_titles)"
   ]
  },
  {
   "cell_type": "code",
   "execution_count": 80,
   "id": "0a8dc957-f34f-4a8f-9109-cc5f94a0937a",
   "metadata": {},
   "outputs": [
    {
     "data": {
      "image/png": "[encoded data removed]",
      "text/plain": [
       "<Figure size 1000x600 with 1 Axes>"
      ]
     },
     "metadata": {},
     "output_type": "display_data"
    }
   ],
   "source": [
    "# Plotting the average salary by job title\n",
    "plt.figure(figsize=(10, 6))\n",
    "sns.barplot(x='job_title', y='salary', data=top_5_job_titles, palette='viridis')\n",
    "plt.xticks(rotation=45)  # Rotate x-axis labels if needed\n",
    "plt.show()"
   ]
  },
  {
   "cell_type": "markdown",
   "id": "9a708152-4100-43c3-b786-9de7b4fe2594",
   "metadata": {},
   "source": [
    "# Salary Distribution by Experience Level:"
   ]
  },
  {
   "cell_type": "code",
   "execution_count": 84,
   "id": "e1df92a6-2ad9-4b88-8775-0ef436c2fe17",
   "metadata": {},
   "outputs": [
    {
     "data": {
      "text/plain": [
       "experience_level\n",
       "SE    10670\n",
       "MI     4038\n",
       "EN     1325\n",
       "EX      501\n",
       "Name: count, dtype: int64"
      ]
     },
     "execution_count": 84,
     "metadata": {},
     "output_type": "execute_result"
    }
   ],
   "source": [
    "df['experience_level'].value_counts()"
   ]
  },
  {
   "cell_type": "code",
   "execution_count": 88,
   "id": "83b855a5-c582-4a92-bdd5-6c6f594bd8d8",
   "metadata": {},
   "outputs": [
    {
     "data": {
      "image/png": "[encoded data removed]",
      "text/plain": [
       "<Figure size 640x480 with 1 Axes>"
      ]
     },
     "metadata": {},
     "output_type": "display_data"
    }
   ],
   "source": [
    "sns.violinplot(x = 'experience_level', y = 'salary', data = df, palette='plasma')\n",
    "plt.show()"
   ]
  },
  {
   "cell_type": "markdown",
   "id": "fa6e5cd2-eda9-4b64-ba53-1f5373a9f371",
   "metadata": {},
   "source": [
    "# Average Salary by Employment Type:"
   ]
  },
  {
   "cell_type": "code",
   "execution_count": 94,
   "id": "a92ef9f8-ef7a-439d-8218-87a7dc7689dc",
   "metadata": {},
   "outputs": [
    {
     "name": "stdout",
     "output_type": "stream",
     "text": [
      "  employment_type         salary\n",
      "0              CT  115664.142857\n",
      "1              FL  430182.500000\n",
      "2              FT  163707.561930\n",
      "3              PT  109374.368421\n"
     ]
    }
   ],
   "source": [
    "Average_Salary_by_Employment_Type = df.groupby('employment_type')['salary'].mean().reset_index()\n",
    "Average_Salary_by_Employment_Type.columns = ['employment_type', 'salary']\n",
    "print(Average_Salary_by_Employment_Type)"
   ]
  },
  {
   "cell_type": "code",
   "execution_count": 96,
   "id": "692d00f6-a107-49ad-8e38-cb7ba7862f9b",
   "metadata": {},
   "outputs": [
    {
     "data": {
      "text/plain": [
       "employment_type\n",
       "FT    16454\n",
       "PT       38\n",
       "CT       28\n",
       "FL       14\n",
       "Name: count, dtype: int64"
      ]
     },
     "execution_count": 96,
     "metadata": {},
     "output_type": "execute_result"
    }
   ],
   "source": [
    "df['employment_type'].value_counts()"
   ]
  },
  {
   "cell_type": "code",
   "execution_count": 104,
   "id": "bd25b112-a7bc-4b1a-8a0f-e81b5be7a493",
   "metadata": {},
   "outputs": [
    {
     "data": {
      "image/png": "[encoded data removed]",
      "text/plain": [
       "<Figure size 640x480 with 1 Axes>"
      ]
     },
     "metadata": {},
     "output_type": "display_data"
    }
   ],
   "source": [
    "sns.barplot(x = \"employment_type\", y = \"salary\", data = Average_Salary_by_Employment_Type, palette= 'cividis' )\n",
    "plt.show()"
   ]
  },
  {
   "cell_type": "markdown",
   "id": "46be0b60-8467-4712-83df-be3b648f6763",
   "metadata": {},
   "source": [
    "# Salary Comparison by Company Size"
   ]
  },
  {
   "cell_type": "code",
   "execution_count": 106,
   "id": "314e31d1-d898-4a41-a56b-6e8d9538ca40",
   "metadata": {},
   "outputs": [
    {
     "data": {
      "text/plain": [
       "company_size\n",
       "M    15306\n",
       "L     1040\n",
       "S      188\n",
       "Name: count, dtype: int64"
      ]
     },
     "execution_count": 106,
     "metadata": {},
     "output_type": "execute_result"
    }
   ],
   "source": [
    "df['company_size'].value_counts()"
   ]
  },
  {
   "cell_type": "code",
   "execution_count": 110,
   "id": "35fa9bbf-81e6-40d3-ac99-622748b16163",
   "metadata": {},
   "outputs": [
    {
     "name": "stdout",
     "output_type": "stream",
     "text": [
      "  company_size         salary\n",
      "0            L  308403.983654\n",
      "1            M  152413.901150\n",
      "2            S  284437.696809\n"
     ]
    }
   ],
   "source": [
    "Salary_Comparison_by_Company_Size = df.groupby('company_size')['salary'].mean().reset_index()\n",
    "Salary_Comparison_by_Company_Size.columns = ['company_size','salary']\n",
    "print(Salary_Comparison_by_Company_Size)"
   ]
  },
  {
   "cell_type": "code",
   "execution_count": 128,
   "id": "114dbe18-4508-455c-8f15-da57ba3058d9",
   "metadata": {},
   "outputs": [
    {
     "name": "stdout",
     "output_type": "stream",
     "text": [
      "[1 1 1]\n",
      "MultiIndex([('L', 308403.98365384614),\n",
      "            ('M', 152413.90114987586),\n",
      "            ('S', 284437.69680851063)],\n",
      "           names=['company_size', 'salary'])\n"
     ]
    }
   ],
   "source": [
    " y = Salary_Comparison_by_Company_Size.value_counts().index\n",
    " x = Salary_Comparison_by_Company_Size.value_counts().values\n",
    "print(x)\n",
    "print(y)"
   ]
  },
  {
   "cell_type": "code",
   "execution_count": 148,
   "id": "65c1a2a7-e1db-47e3-a318-6370cbb23dcc",
   "metadata": {},
   "outputs": [
    {
     "data": {
      "image/png": "[encoded data removed]",
      "text/plain": [
       "<Figure size 640x480 with 1 Axes>"
      ]
     },
     "metadata": {},
     "output_type": "display_data"
    }
   ],
   "source": [
    "custom_colors = ['blue', 'green', 'orange', 'red'] \n",
    "plt.pie(x,labels = y, autopct = \"%0.1f%%\", colors= custom_colors)\n",
    "plt.show()"
   ]
  },
  {
   "cell_type": "markdown",
   "id": "42967251-30c6-48b5-a1c7-7e03426517d9",
   "metadata": {},
   "source": [
    "# Top-Paying Job Titles:"
   ]
  },
  {
   "cell_type": "code",
   "execution_count": 9,
   "id": "88ff9616-5228-4daf-a521-498ea3172a4a",
   "metadata": {},
   "outputs": [
    {
     "data": {
      "text/plain": [
       "job_title\n",
       "Data Engineer                    3464\n",
       "Data Scientist                   3314\n",
       "Data Analyst                     2440\n",
       "Machine Learning Engineer        1705\n",
       "Research Scientist                531\n",
       "                                 ... \n",
       "Quantitative Research Analyst       1\n",
       "AWS Data Architect                  1\n",
       "Analytics Engineering Manager       1\n",
       "Marketing Data Scientist            1\n",
       "Applied Research Scientist          1\n",
       "Name: count, Length: 155, dtype: int64"
      ]
     },
     "execution_count": 9,
     "metadata": {},
     "output_type": "execute_result"
    }
   ],
   "source": [
    "df['job_title'].value_counts()"
   ]
  },
  {
   "cell_type": "code",
   "execution_count": 51,
   "id": "005a38af-9a62-44d8-aa97-6ff90a202ec3",
   "metadata": {},
   "outputs": [
    {
     "name": "stdout",
     "output_type": "stream",
     "text": [
      "                           job_title         salary\n",
      "0                       AI Architect  252001.724138\n",
      "1                       AI Developer  134684.210526\n",
      "2                        AI Engineer  163626.866667\n",
      "3                 AI Product Manager  141766.666667\n",
      "4                      AI Programmer  764400.857143\n",
      "..                               ...            ...\n",
      "150               Sales Data Analyst   60000.000000\n",
      "151           Software Data Engineer  120000.000000\n",
      "152               Staff Data Analyst   84999.333333\n",
      "153             Staff Data Scientist  134500.000000\n",
      "154  Staff Machine Learning Engineer  185000.000000\n",
      "\n",
      "[155 rows x 2 columns]\n"
     ]
    }
   ],
   "source": [
    "Top_Paying_Job_Titles = df.groupby('job_title')['salary'].mean().reset_index()\n",
    "Top_Paying_Job_Titles.columns = ['job_title', 'salary' ]\n",
    "print(Top_Paying_Job_Titles)"
   ]
  },
  {
   "cell_type": "code",
   "execution_count": 62,
   "id": "5e75978b-c1b3-4357-935a-204860ff6f28",
   "metadata": {},
   "outputs": [
    {
     "data": {
      "text/html": [
       "<div>\n",
       "<style scoped>\n",
       "    .dataframe tbody tr th:only-of-type {\n",
       "        vertical-align: middle;\n",
       "    }\n",
       "\n",
       "    .dataframe tbody tr th {\n",
       "        vertical-align: top;\n",
       "    }\n",
       "\n",
       "    .dataframe thead th {\n",
       "        text-align: right;\n",
       "    }\n",
       "</style>\n",
       "<table border=\"1\" class=\"dataframe\">\n",
       "  <thead>\n",
       "    <tr style=\"text-align: right;\">\n",
       "      <th></th>\n",
       "      <th>job_title</th>\n",
       "      <th>salary</th>\n",
       "    </tr>\n",
       "  </thead>\n",
       "  <tbody>\n",
       "    <tr>\n",
       "      <th>0</th>\n",
       "      <td>AI Architect</td>\n",
       "      <td>252001.724138</td>\n",
       "    </tr>\n",
       "    <tr>\n",
       "      <th>1</th>\n",
       "      <td>AI Developer</td>\n",
       "      <td>134684.210526</td>\n",
       "    </tr>\n",
       "    <tr>\n",
       "      <th>2</th>\n",
       "      <td>AI Engineer</td>\n",
       "      <td>163626.866667</td>\n",
       "    </tr>\n",
       "    <tr>\n",
       "      <th>3</th>\n",
       "      <td>AI Product Manager</td>\n",
       "      <td>141766.666667</td>\n",
       "    </tr>\n",
       "    <tr>\n",
       "      <th>4</th>\n",
       "      <td>AI Programmer</td>\n",
       "      <td>764400.857143</td>\n",
       "    </tr>\n",
       "    <tr>\n",
       "      <th>5</th>\n",
       "      <td>AI Research Engineer</td>\n",
       "      <td>360871.428571</td>\n",
       "    </tr>\n",
       "    <tr>\n",
       "      <th>6</th>\n",
       "      <td>AI Research Scientist</td>\n",
       "      <td>104833.333333</td>\n",
       "    </tr>\n",
       "  </tbody>\n",
       "</table>\n",
       "</div>"
      ],
      "text/plain": [
       "               job_title         salary\n",
       "0           AI Architect  252001.724138\n",
       "1           AI Developer  134684.210526\n",
       "2            AI Engineer  163626.866667\n",
       "3     AI Product Manager  141766.666667\n",
       "4          AI Programmer  764400.857143\n",
       "5   AI Research Engineer  360871.428571\n",
       "6  AI Research Scientist  104833.333333"
      ]
     },
     "execution_count": 62,
     "metadata": {},
     "output_type": "execute_result"
    }
   ],
   "source": [
    "Top_Paying_Job_Titles.head(7)"
   ]
  },
  {
   "cell_type": "code",
   "execution_count": 72,
   "id": "0b35ed71-863d-4ae8-893a-1248b6ccf1ca",
   "metadata": {},
   "outputs": [
    {
     "name": "stdout",
     "output_type": "stream",
     "text": [
      "                          job_title        salary\n",
      "138        Principal Data Architect  3.000000e+06\n",
      "115  Lead Machine Learning Engineer  1.566200e+06\n",
      "130         Manager Data Management  1.562500e+06\n",
      "110        Head of Machine Learning  1.146000e+06\n",
      "112               Lead Data Analyst  1.095833e+06\n"
     ]
    }
   ],
   "source": [
    "Top_Paying_Job_Titles_5 = Top_Paying_Job_Titles.sort_values( by='salary', ascending=False).head(5)\n",
    "print(Top_Paying_Job_Titles_5)"
   ]
  },
  {
   "cell_type": "code",
   "execution_count": 74,
   "id": "2a7b0fb7-4e91-4bc4-9c4e-4f99ccd17d5c",
   "metadata": {},
   "outputs": [
    {
     "data": {
      "image/png": "[encoded data removed]",
      "text/plain": [
       "<Figure size 640x480 with 1 Axes>"
      ]
     },
     "metadata": {},
     "output_type": "display_data"
    }
   ],
   "source": [
    "sns.barplot(x='salary', y='job_title', data=Top_Paying_Job_Titles_5, palette='viridis')\n",
    "plt.show()"
   ]
  },
  {
   "cell_type": "markdown",
   "id": "0e9f9b60-e618-4ce3-9b79-8f1b5ec3177f",
   "metadata": {},
   "source": [
    "# Salary Trends Over Time:"
   ]
  },
  {
   "cell_type": "code",
   "execution_count": 76,
   "id": "a5805d72-579d-4735-8449-33bd758a1b26",
   "metadata": {},
   "outputs": [
    {
     "data": {
      "text/plain": [
       "work_year\n",
       "2023    8519\n",
       "2024    6067\n",
       "2022    1655\n",
       "2021     218\n",
       "2020      75\n",
       "Name: count, dtype: int64"
      ]
     },
     "execution_count": 76,
     "metadata": {},
     "output_type": "execute_result"
    }
   ],
   "source": [
    "df['work_year'].value_counts()"
   ]
  },
  {
   "cell_type": "code",
   "execution_count": 84,
   "id": "5c953c44-0255-4881-aae6-d1bd3e347b7b",
   "metadata": {},
   "outputs": [
    {
     "name": "stdout",
     "output_type": "stream",
     "text": [
      "   work_year         salary\n",
      "0       2020  356637.453333\n",
      "1       2021  559350.990826\n",
      "2       2022  167705.961934\n",
      "3       2023  159319.800916\n",
      "4       2024  152229.524477\n"
     ]
    }
   ],
   "source": [
    "Salary_Trends_Over_Time = df.groupby('work_year')['salary'].mean().reset_index()\n",
    "Salary_Trends_Over_Time.columns = ['work_year', 'salary']\n",
    "print(Salary_Trends_Over_Time )"
   ]
  },
  {
   "cell_type": "code",
   "execution_count": 86,
   "id": "a569ceea-bedd-4c30-a671-26ce868bce20",
   "metadata": {},
   "outputs": [
    {
     "data": {
      "image/png": "[encoded data removed]",
      "text/plain": [
       "<Figure size 640x480 with 1 Axes>"
      ]
     },
     "metadata": {},
     "output_type": "display_data"
    }
   ],
   "source": [
    "sns.lineplot(x = 'work_year', y = 'salary' , data = Salary_Trends_Over_Time)\n",
    "plt.show()"
   ]
  },
  {
   "cell_type": "markdown",
   "id": "780003d7-e2a0-404e-87cb-b0b7797d56c2",
   "metadata": {},
   "source": [
    "# Remote Work Impact on Salary"
   ]
  },
  {
   "cell_type": "code",
   "execution_count": 88,
   "id": "35573c64-4a50-48fb-8167-3e8ac4841dd6",
   "metadata": {},
   "outputs": [
    {
     "data": {
      "text/plain": [
       "remote_ratio\n",
       "0      11118\n",
       "100     5167\n",
       "50       249\n",
       "Name: count, dtype: int64"
      ]
     },
     "execution_count": 88,
     "metadata": {},
     "output_type": "execute_result"
    }
   ],
   "source": [
    "df['remote_ratio'].value_counts()"
   ]
  },
  {
   "cell_type": "code",
   "execution_count": 94,
   "id": "11239f63-bfad-4afc-b1c1-7df6a2a81339",
   "metadata": {},
   "outputs": [
    {
     "name": "stdout",
     "output_type": "stream",
     "text": [
      "   remote_ratio         salary\n",
      "0             0  154675.456557\n",
      "1            50  532770.393574\n",
      "2           100  165419.014322\n"
     ]
    }
   ],
   "source": [
    "Remote_Work_Impact_on_Salary = df.groupby('remote_ratio')['salary'].mean().reset_index()\n",
    "Remote_Work_Impact_on_Salary.columns = ['remote_ratio', 'salary']\n",
    "print(Remote_Work_Impact_on_Salary)"
   ]
  },
  {
   "cell_type": "code",
   "execution_count": 102,
   "id": "be83dceb-6f1f-4151-be0f-50dd53597da2",
   "metadata": {},
   "outputs": [
    {
     "data": {
      "image/png": "[encoded data removed]",
      "text/plain": [
       "<Figure size 640x480 with 1 Axes>"
      ]
     },
     "metadata": {},
     "output_type": "display_data"
    }
   ],
   "source": [
    "sns.scatterplot( x = 'remote_ratio', y = 'salary', data = Remote_Work_Impact_on_Salary)\n",
    "plt.show()"
   ]
  },
  {
   "cell_type": "markdown",
   "id": "cebd29ca-2a6f-459b-805a-f76e416b62ca",
   "metadata": {},
   "source": [
    "# Salary by Location:"
   ]
  },
  {
   "cell_type": "code",
   "execution_count": 106,
   "id": "19e9eacd-f4d8-4615-9a48-d16d9b74b7f9",
   "metadata": {},
   "outputs": [
    {
     "data": {
      "text/plain": [
       "company_location\n",
       "US    14518\n",
       "GB      694\n",
       "CA      455\n",
       "ES      133\n",
       "Name: count, dtype: int64"
      ]
     },
     "execution_count": 106,
     "metadata": {},
     "output_type": "execute_result"
    }
   ],
   "source": [
    "df['company_location'].value_counts().head(4)"
   ]
  },
  {
   "cell_type": "code",
   "execution_count": 108,
   "id": "9a08f766-7e21-4d39-8323-7696f0737d6f",
   "metadata": {},
   "outputs": [
    {
     "name": "stdout",
     "output_type": "stream",
     "text": [
      "   company_location         salary\n",
      "0                AD   47000.000000\n",
      "1                AE   86000.000000\n",
      "2                AM   50000.000000\n",
      "3                AR   62444.444444\n",
      "4                AS  470666.666667\n",
      "..              ...            ...\n",
      "72               TR  143666.666667\n",
      "73               UA  105600.000000\n",
      "74               US  158078.590439\n",
      "75               VN   63000.000000\n",
      "76               ZA   76508.157895\n",
      "\n",
      "[77 rows x 2 columns]\n"
     ]
    }
   ],
   "source": [
    "Salary_by_Location = df.groupby('company_location')['salary'].mean().reset_index()\n",
    "print(Salary_by_Location)"
   ]
  },
  {
   "cell_type": "code",
   "execution_count": 112,
   "id": "732f3dff-ffef-4406-b46d-7d28aab25b1c",
   "metadata": {},
   "outputs": [
    {
     "name": "stdout",
     "output_type": "stream",
     "text": [
      "                          job_title        salary\n",
      "138        Principal Data Architect  3.000000e+06\n",
      "115  Lead Machine Learning Engineer  1.566200e+06\n",
      "130         Manager Data Management  1.562500e+06\n",
      "110        Head of Machine Learning  1.146000e+06\n",
      "112               Lead Data Analyst  1.095833e+06\n"
     ]
    }
   ],
   "source": [
    "Salary_by_Location_5 = Salary_by_Location.sort_values( by='salary', ascending=False).head(5)\n",
    "print(Top_Paying_Job_Titles_5)"
   ]
  },
  {
   "cell_type": "code",
   "execution_count": 114,
   "id": "0430ba8c-2189-431c-8335-cb5cd5832aea",
   "metadata": {},
   "outputs": [
    {
     "data": {
      "image/png": "[encoded data removed]",
      "text/plain": [
       "<Figure size 640x480 with 1 Axes>"
      ]
     },
     "metadata": {},
     "output_type": "display_data"
    }
   ],
   "source": [
    "sns.barplot(x = 'company_location', y = 'salary',data =Salary_by_Location_5 )\n",
    "plt.show()"
   ]
  },
  {
   "cell_type": "code",
   "execution_count": null,
   "id": "1dd451cf-255a-4f76-9631-ef3cba0aeb5c",
   "metadata": {},
   "outputs": [],
   "source": []
  }
 ],
 "metadata": {
  "kernelspec": {
   "display_name": "Python 3 (ipykernel)",
   "language": "python",
   "name": "python3"
  },
  "language_info": {
   "codemirror_mode": {
    "name": "ipython",
    "version": 3
   },
   "file_extension": ".py",
   "mimetype": "text/x-python",
   "name": "python",
   "nbconvert_exporter": "python",
   "pygments_lexer": "ipython3",
   "version": "3.11.5"
  }
 },
 "nbformat": 4,
 "nbformat_minor": 5
}
